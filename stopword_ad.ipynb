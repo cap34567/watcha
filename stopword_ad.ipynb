{
 "cells": [
  {
   "cell_type": "code",
   "execution_count": 138,
   "id": "231f3a13",
   "metadata": {},
   "outputs": [],
   "source": [
    "file_path = 'stopwords_1.txt'  \n",
    "file_list = []\n",
    "with open(file_path, 'r', encoding='utf-8') as file:\n",
    "    file = file.read()\n",
    "file = file + '비치\\n여행\\n주체\\n만남\\n핵심\\n'\n",
    "\n",
    "### '걸작\\n러닝\\n터미네이터\\n' ###\n",
    "# 이런식으로 긍정어 top 100에서 지워야 할 추가적인 스탑워드를 적어주세요"
   ]
  },
  {
   "cell_type": "code",
   "execution_count": 139,
   "id": "1dcf1ad7",
   "metadata": {},
   "outputs": [],
   "source": [
    "file_out = 'stopwords_1.txt' \n",
    "\n",
    "with open(file_out, 'w', encoding='utf-8') as f:\n",
    "    for x in file:\n",
    "        f.write(x)"
   ]
  },
  {
   "cell_type": "code",
   "execution_count": null,
   "id": "282ff91f",
   "metadata": {},
   "outputs": [],
   "source": []
  }
 ],
 "metadata": {
  "kernelspec": {
   "display_name": "Python 3 (ipykernel)",
   "language": "python",
   "name": "python3"
  },
  "language_info": {
   "codemirror_mode": {
    "name": "ipython",
    "version": 3
   },
   "file_extension": ".py",
   "mimetype": "text/x-python",
   "name": "python",
   "nbconvert_exporter": "python",
   "pygments_lexer": "ipython3",
   "version": "3.11.4"
  }
 },
 "nbformat": 4,
 "nbformat_minor": 5
}
