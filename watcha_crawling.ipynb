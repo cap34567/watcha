{
 "cells": [
  {
   "cell_type": "code",
   "execution_count": 33,
   "id": "95f7db84",
   "metadata": {},
   "outputs": [],
   "source": [
    "from selenium import webdriver\n",
    "from selenium.webdriver.common.keys import Keys\n",
    "from selenium.webdriver.common.by import By\n",
    "from selenium.webdriver.chrome.options import Options\n",
    "from selenium.webdriver.chrome.service import Service\n",
    "from selenium.webdriver.support.ui import WebDriverWait\n",
    "from selenium.webdriver.support import expected_conditions as EC\n",
    "from bs4 import BeautifulSoup\n",
    "from urllib.request import Request, urlopen\n",
    "import html5lib\n",
    "import time\n",
    "from tqdm.notebook import tqdm\n",
    "from selenium.common.exceptions import NoSuchElementException\n",
    "import pandas as pd\n"
   ]
  },
  {
   "cell_type": "code",
   "execution_count": 42,
   "id": "ea7874da",
   "metadata": {},
   "outputs": [
    {
     "data": {
      "application/vnd.jupyter.widget-view+json": {
       "model_id": "b2c7595029d248c8bbc20cf5459b45b3",
       "version_major": 2,
       "version_minor": 0
      },
      "text/plain": [
       "  0%|          | 0/2 [00:00<?, ?it/s]"
      ]
     },
     "metadata": {},
     "output_type": "display_data"
    },
    {
     "ename": "NoSuchWindowException",
     "evalue": "Message: no such window: target window already closed\nfrom unknown error: web view not found\n  (Session info: chrome=119.0.6045.125)\n",
     "output_type": "error",
     "traceback": [
      "\u001b[1;31m---------------------------------------------------------------------------\u001b[0m",
      "\u001b[1;31mNoSuchWindowException\u001b[0m                     Traceback (most recent call last)",
      "Cell \u001b[1;32mIn[42], line 28\u001b[0m\n\u001b[0;32m     25\u001b[0m \u001b[38;5;28;01mfor\u001b[39;00m title \u001b[38;5;129;01min\u001b[39;00m tqdm(inp):\n\u001b[0;32m     26\u001b[0m     \u001b[38;5;66;03m#제목 검색\u001b[39;00m\n\u001b[0;32m     27\u001b[0m     time\u001b[38;5;241m.\u001b[39msleep(\u001b[38;5;241m1\u001b[39m)\n\u001b[1;32m---> 28\u001b[0m     elem \u001b[38;5;241m=\u001b[39m WebDriverWait(driver, \u001b[38;5;241m3\u001b[39m)\u001b[38;5;241m.\u001b[39muntil(\n\u001b[0;32m     29\u001b[0m         EC\u001b[38;5;241m.\u001b[39mpresence_of_element_located((By\u001b[38;5;241m.\u001b[39mID, \u001b[38;5;124m'\u001b[39m\u001b[38;5;124mdesktop-search-field\u001b[39m\u001b[38;5;124m'\u001b[39m)))\n\u001b[0;32m     30\u001b[0m     elem\u001b[38;5;241m.\u001b[39mclick()   \n\u001b[0;32m     31\u001b[0m     elem\u001b[38;5;241m.\u001b[39msend_keys(title)\n",
      "File \u001b[1;32m~\\anaconda3\\Lib\\site-packages\\selenium\\webdriver\\support\\wait.py:71\u001b[0m, in \u001b[0;36mWebDriverWait.until\u001b[1;34m(self, method, message)\u001b[0m\n\u001b[0;32m     69\u001b[0m \u001b[38;5;28;01mwhile\u001b[39;00m \u001b[38;5;28;01mTrue\u001b[39;00m:\n\u001b[0;32m     70\u001b[0m     \u001b[38;5;28;01mtry\u001b[39;00m:\n\u001b[1;32m---> 71\u001b[0m         value \u001b[38;5;241m=\u001b[39m method(\u001b[38;5;28mself\u001b[39m\u001b[38;5;241m.\u001b[39m_driver)\n\u001b[0;32m     72\u001b[0m         \u001b[38;5;28;01mif\u001b[39;00m value:\n\u001b[0;32m     73\u001b[0m             \u001b[38;5;28;01mreturn\u001b[39;00m value\n",
      "File \u001b[1;32m~\\anaconda3\\Lib\\site-packages\\selenium\\webdriver\\support\\expected_conditions.py:64\u001b[0m, in \u001b[0;36mpresence_of_element_located.__call__\u001b[1;34m(self, driver)\u001b[0m\n\u001b[0;32m     63\u001b[0m \u001b[38;5;28;01mdef\u001b[39;00m \u001b[38;5;21m__call__\u001b[39m(\u001b[38;5;28mself\u001b[39m, driver):\n\u001b[1;32m---> 64\u001b[0m     \u001b[38;5;28;01mreturn\u001b[39;00m _find_element(driver, \u001b[38;5;28mself\u001b[39m\u001b[38;5;241m.\u001b[39mlocator)\n",
      "File \u001b[1;32m~\\anaconda3\\Lib\\site-packages\\selenium\\webdriver\\support\\expected_conditions.py:415\u001b[0m, in \u001b[0;36m_find_element\u001b[1;34m(driver, by)\u001b[0m\n\u001b[0;32m    413\u001b[0m     \u001b[38;5;28;01mraise\u001b[39;00m e\n\u001b[0;32m    414\u001b[0m \u001b[38;5;28;01mexcept\u001b[39;00m WebDriverException \u001b[38;5;28;01mas\u001b[39;00m e:\n\u001b[1;32m--> 415\u001b[0m     \u001b[38;5;28;01mraise\u001b[39;00m e\n",
      "File \u001b[1;32m~\\anaconda3\\Lib\\site-packages\\selenium\\webdriver\\support\\expected_conditions.py:411\u001b[0m, in \u001b[0;36m_find_element\u001b[1;34m(driver, by)\u001b[0m\n\u001b[0;32m    408\u001b[0m \u001b[38;5;250m\u001b[39m\u001b[38;5;124;03m\"\"\"Looks up an element. Logs and re-raises ``WebDriverException``\u001b[39;00m\n\u001b[0;32m    409\u001b[0m \u001b[38;5;124;03mif thrown.\"\"\"\u001b[39;00m\n\u001b[0;32m    410\u001b[0m \u001b[38;5;28;01mtry\u001b[39;00m:\n\u001b[1;32m--> 411\u001b[0m     \u001b[38;5;28;01mreturn\u001b[39;00m driver\u001b[38;5;241m.\u001b[39mfind_element(\u001b[38;5;241m*\u001b[39mby)\n\u001b[0;32m    412\u001b[0m \u001b[38;5;28;01mexcept\u001b[39;00m NoSuchElementException \u001b[38;5;28;01mas\u001b[39;00m e:\n\u001b[0;32m    413\u001b[0m     \u001b[38;5;28;01mraise\u001b[39;00m e\n",
      "File \u001b[1;32m~\\anaconda3\\Lib\\site-packages\\selenium\\webdriver\\remote\\webdriver.py:976\u001b[0m, in \u001b[0;36mWebDriver.find_element\u001b[1;34m(self, by, value)\u001b[0m\n\u001b[0;32m    974\u001b[0m         by \u001b[38;5;241m=\u001b[39m By\u001b[38;5;241m.\u001b[39mCSS_SELECTOR\n\u001b[0;32m    975\u001b[0m         value \u001b[38;5;241m=\u001b[39m \u001b[38;5;124m'\u001b[39m\u001b[38;5;124m[name=\u001b[39m\u001b[38;5;124m\"\u001b[39m\u001b[38;5;132;01m%s\u001b[39;00m\u001b[38;5;124m\"\u001b[39m\u001b[38;5;124m]\u001b[39m\u001b[38;5;124m'\u001b[39m \u001b[38;5;241m%\u001b[39m value\n\u001b[1;32m--> 976\u001b[0m \u001b[38;5;28;01mreturn\u001b[39;00m \u001b[38;5;28mself\u001b[39m\u001b[38;5;241m.\u001b[39mexecute(Command\u001b[38;5;241m.\u001b[39mFIND_ELEMENT, {\n\u001b[0;32m    977\u001b[0m     \u001b[38;5;124m'\u001b[39m\u001b[38;5;124musing\u001b[39m\u001b[38;5;124m'\u001b[39m: by,\n\u001b[0;32m    978\u001b[0m     \u001b[38;5;124m'\u001b[39m\u001b[38;5;124mvalue\u001b[39m\u001b[38;5;124m'\u001b[39m: value})[\u001b[38;5;124m'\u001b[39m\u001b[38;5;124mvalue\u001b[39m\u001b[38;5;124m'\u001b[39m]\n",
      "File \u001b[1;32m~\\anaconda3\\Lib\\site-packages\\selenium\\webdriver\\remote\\webdriver.py:321\u001b[0m, in \u001b[0;36mWebDriver.execute\u001b[1;34m(self, driver_command, params)\u001b[0m\n\u001b[0;32m    319\u001b[0m response \u001b[38;5;241m=\u001b[39m \u001b[38;5;28mself\u001b[39m\u001b[38;5;241m.\u001b[39mcommand_executor\u001b[38;5;241m.\u001b[39mexecute(driver_command, params)\n\u001b[0;32m    320\u001b[0m \u001b[38;5;28;01mif\u001b[39;00m response:\n\u001b[1;32m--> 321\u001b[0m     \u001b[38;5;28mself\u001b[39m\u001b[38;5;241m.\u001b[39merror_handler\u001b[38;5;241m.\u001b[39mcheck_response(response)\n\u001b[0;32m    322\u001b[0m     response[\u001b[38;5;124m'\u001b[39m\u001b[38;5;124mvalue\u001b[39m\u001b[38;5;124m'\u001b[39m] \u001b[38;5;241m=\u001b[39m \u001b[38;5;28mself\u001b[39m\u001b[38;5;241m.\u001b[39m_unwrap_value(\n\u001b[0;32m    323\u001b[0m         response\u001b[38;5;241m.\u001b[39mget(\u001b[38;5;124m'\u001b[39m\u001b[38;5;124mvalue\u001b[39m\u001b[38;5;124m'\u001b[39m, \u001b[38;5;28;01mNone\u001b[39;00m))\n\u001b[0;32m    324\u001b[0m     \u001b[38;5;28;01mreturn\u001b[39;00m response\n",
      "File \u001b[1;32m~\\anaconda3\\Lib\\site-packages\\selenium\\webdriver\\remote\\errorhandler.py:242\u001b[0m, in \u001b[0;36mErrorHandler.check_response\u001b[1;34m(self, response)\u001b[0m\n\u001b[0;32m    240\u001b[0m         alert_text \u001b[38;5;241m=\u001b[39m value[\u001b[38;5;124m'\u001b[39m\u001b[38;5;124malert\u001b[39m\u001b[38;5;124m'\u001b[39m]\u001b[38;5;241m.\u001b[39mget(\u001b[38;5;124m'\u001b[39m\u001b[38;5;124mtext\u001b[39m\u001b[38;5;124m'\u001b[39m)\n\u001b[0;32m    241\u001b[0m     \u001b[38;5;28;01mraise\u001b[39;00m exception_class(message, screen, stacktrace, alert_text)\n\u001b[1;32m--> 242\u001b[0m \u001b[38;5;28;01mraise\u001b[39;00m exception_class(message, screen, stacktrace)\n",
      "\u001b[1;31mNoSuchWindowException\u001b[0m: Message: no such window: target window already closed\nfrom unknown error: web view not found\n  (Session info: chrome=119.0.6045.125)\n"
     ]
    }
   ],
   "source": [
    "df_mo =pd.read_csv(\"test.csv\")\n",
    "name = df_mo['영화명']\n",
    "inp = name.values.tolist()\n",
    "inp\n",
    "\n",
    "driver = webdriver.Chrome('chromedriver')\n",
    "driver.get(\"https://pedia.watcha.com/ko-KR\")\n",
    "driver.implicitly_wait(10)\n",
    "result ={}\n",
    "\n",
    "pop = driver.find_element(By.XPATH, '/html/body/div/div/div[2]/div/div/div/div[2]/span[1]')\n",
    "pop.click() \n",
    "but = WebDriverWait(driver, 1).until(\n",
    "    EC.presence_of_element_located((By.XPATH, '//*[@id=\"root\"]/div/div[1]/header[1]/nav/div/div/ul/li[7]/button')))\n",
    "but.click() \n",
    "ID = WebDriverWait(driver, 10).until(\n",
    "    EC.presence_of_element_located((By.XPATH, '/html/body/div/div/div[2]/div/div/div/section/div/div/form/div[1]/label/div[1]/input')))\n",
    "ID.click() \n",
    "ID.send_keys('cap345@nate.com')\n",
    "passward = WebDriverWait(driver, 0.5).until(\n",
    "    EC.presence_of_element_located((By.XPATH, '/html/body/div/div/div[2]/div/div/div/section/div/div/form/div[2]/label/div[1]/input')))\n",
    "passward.click() \n",
    "passward.send_keys('wonjae1496')\n",
    "passward.send_keys(Keys.RETURN)\n",
    "\n",
    "for title in tqdm(inp):\n",
    "    #제목 검색\n",
    "    time.sleep(1)\n",
    "    elem = WebDriverWait(driver, 3).until(\n",
    "        EC.presence_of_element_located((By.ID, 'desktop-search-field')))\n",
    "    elem.click()   \n",
    "    elem.send_keys(title)\n",
    "    elem.send_keys(Keys.RETURN)\n",
    "    driver.implicitly_wait(3)\n",
    "    element_list = []\n",
    "    i = 1\n",
    "    review_list = []\n",
    "    score_list = []\n",
    "    try:\n",
    "        #영화선택\n",
    "        time.sleep(0.5)\n",
    "        url = driver.find_element(By.XPATH, '//*[@id=\"root\"]/div/div[1]/section/section/div[3]/div[1]/section/section[2]/div/div[1]/div/ul/li[1]/a')\n",
    "        url.click()\n",
    "        #더보기\n",
    "        Url = driver.find_element(By.XPATH, '/html/body/div[1]/div/div[1]/section/div/div[2]/div/div[2]/section[2]/header/div/div/a')\n",
    "        Url.click()\n",
    "        time.sleep(1)\n",
    "        for k in range(250): #### 리뷰 갯수 지정하기 \n",
    "            try:\n",
    "                a = 'div > div.css-126e3ta-NavContainer.ed8qmey1 > section > section > div > div > div > ul > div:nth-child(' + str(i) + ')'\n",
    "                element = driver.find_element(\"css selector\", a)\n",
    "            except:\n",
    "                if i == 250:\n",
    "                    break\n",
    "                driver.execute_script(\"window.scrollBy(0, window.innerHeight);\")\n",
    "            else:\n",
    "                element_list.append(element)\n",
    "                i += 1\n",
    "        for iterable in element_list:\n",
    "            try:\n",
    "                score_data = iterable.find_element('css selector', 'div.css-jqudug.egj9y8a3 > div.css-31ods0.egj9y8a0 > span').text\n",
    "                if score_data == '보고싶어요':\n",
    "                    pass\n",
    "                elif score_data == '보는 중':\n",
    "                    pass\n",
    "                else:\n",
    "                    score_list.append(score_data)\n",
    "                    reda = iterable.find_element('css selector', 'div.css-2occzs.egj9y8a1 > a > div > span').text\n",
    "                    reda = reda.replace('\\n','')\n",
    "                    reda = reda.replace('#','')\n",
    "                    review_list.append(reda)\n",
    "            except:\n",
    "                pass\n",
    "            \n",
    "        result[title] = review_list, score_list\n",
    "    except NoSuchElementException:\n",
    "        driver.get(\"https://pedia.watcha.com/ko-KR\")\n",
    "\n",
    "df_data = {'movie_id': [], 'reviews': [], 'score': []}\n",
    "\n",
    "for movie_id, (reviews, score) in result.items():\n",
    "    df_data['movie_id'].extend([movie_id] * len(score))\n",
    "    df_data['reviews'].extend(reviews)\n",
    "    df_data['score'].extend(score)\n",
    "\n",
    "df = pd.DataFrame(df_data)\n",
    "df = df[df['reviews'].str.strip() != ''] ### 스포일러 때문에 비어있는 리뷰 지우기\n",
    "df['score'] = df['score'].apply(lambda x: float(x))\n",
    "df['sentiment'] = df['score'].apply(lambda x: 1 if x > 2.5 else 0)\n",
    "df.to_csv('test.csv', index=False, encoding='utf-8')"
   ]
  },
  {
   "cell_type": "code",
   "execution_count": null,
   "id": "1141ed29",
   "metadata": {},
   "outputs": [],
   "source": []
  }
 ],
 "metadata": {
  "kernelspec": {
   "display_name": "Python 3 (ipykernel)",
   "language": "python",
   "name": "python3"
  },
  "language_info": {
   "codemirror_mode": {
    "name": "ipython",
    "version": 3
   },
   "file_extension": ".py",
   "mimetype": "text/x-python",
   "name": "python",
   "nbconvert_exporter": "python",
   "pygments_lexer": "ipython3",
   "version": "3.11.4"
  }
 },
 "nbformat": 4,
 "nbformat_minor": 5
}
